{
  "nbformat": 4,
  "nbformat_minor": 0,
  "metadata": {
    "colab": {
      "name": "Convolutional Neural Network.ipynb",
      "provenance": []
    },
    "kernelspec": {
      "name": "python3",
      "display_name": "Python 3"
    },
    "language_info": {
      "name": "python"
    },
    "widgets": {
      "application/vnd.jupyter.widget-state+json": {
        "fd34aa6a91bf46ae9df2b9a1c7402526": {
          "model_module": "@jupyter-widgets/controls",
          "model_name": "HBoxModel",
          "model_module_version": "1.5.0",
          "state": {
            "_dom_classes": [],
            "_model_module": "@jupyter-widgets/controls",
            "_model_module_version": "1.5.0",
            "_model_name": "HBoxModel",
            "_view_count": null,
            "_view_module": "@jupyter-widgets/controls",
            "_view_module_version": "1.5.0",
            "_view_name": "HBoxView",
            "box_style": "",
            "children": [
              "IPY_MODEL_987e7d8054874640973d3fca22b5e9df",
              "IPY_MODEL_05633e31a77844b482ad6967ed65c960",
              "IPY_MODEL_99083e588214431ba7f89d9dc9d6d27e"
            ],
            "layout": "IPY_MODEL_aef972fd2ad54f128d0c13e7717a24a4"
          }
        },
        "987e7d8054874640973d3fca22b5e9df": {
          "model_module": "@jupyter-widgets/controls",
          "model_name": "HTMLModel",
          "model_module_version": "1.5.0",
          "state": {
            "_dom_classes": [],
            "_model_module": "@jupyter-widgets/controls",
            "_model_module_version": "1.5.0",
            "_model_name": "HTMLModel",
            "_view_count": null,
            "_view_module": "@jupyter-widgets/controls",
            "_view_module_version": "1.5.0",
            "_view_name": "HTMLView",
            "description": "",
            "description_tooltip": null,
            "layout": "IPY_MODEL_b2a298bb277c4ae4bee9feaba8cb2530",
            "placeholder": "​",
            "style": "IPY_MODEL_91287cad2f244070b2a2ff93be2dbd9b",
            "value": "100%"
          }
        },
        "05633e31a77844b482ad6967ed65c960": {
          "model_module": "@jupyter-widgets/controls",
          "model_name": "FloatProgressModel",
          "model_module_version": "1.5.0",
          "state": {
            "_dom_classes": [],
            "_model_module": "@jupyter-widgets/controls",
            "_model_module_version": "1.5.0",
            "_model_name": "FloatProgressModel",
            "_view_count": null,
            "_view_module": "@jupyter-widgets/controls",
            "_view_module_version": "1.5.0",
            "_view_name": "ProgressView",
            "bar_style": "success",
            "description": "",
            "description_tooltip": null,
            "layout": "IPY_MODEL_5e2999a0866c4d2394ffb8ed78efd3ae",
            "max": 9912422,
            "min": 0,
            "orientation": "horizontal",
            "style": "IPY_MODEL_f71e136a87de45d3840a777f0c52dcfb",
            "value": 9912422
          }
        },
        "99083e588214431ba7f89d9dc9d6d27e": {
          "model_module": "@jupyter-widgets/controls",
          "model_name": "HTMLModel",
          "model_module_version": "1.5.0",
          "state": {
            "_dom_classes": [],
            "_model_module": "@jupyter-widgets/controls",
            "_model_module_version": "1.5.0",
            "_model_name": "HTMLModel",
            "_view_count": null,
            "_view_module": "@jupyter-widgets/controls",
            "_view_module_version": "1.5.0",
            "_view_name": "HTMLView",
            "description": "",
            "description_tooltip": null,
            "layout": "IPY_MODEL_ed7f14f96a23495da0c3f9cd5f0c3eaf",
            "placeholder": "​",
            "style": "IPY_MODEL_c04e40b817e443968e37cf9cf693bef2",
            "value": " 9912422/9912422 [00:00&lt;00:00, 57295696.97it/s]"
          }
        },
        "aef972fd2ad54f128d0c13e7717a24a4": {
          "model_module": "@jupyter-widgets/base",
          "model_name": "LayoutModel",
          "model_module_version": "1.2.0",
          "state": {
            "_model_module": "@jupyter-widgets/base",
            "_model_module_version": "1.2.0",
            "_model_name": "LayoutModel",
            "_view_count": null,
            "_view_module": "@jupyter-widgets/base",
            "_view_module_version": "1.2.0",
            "_view_name": "LayoutView",
            "align_content": null,
            "align_items": null,
            "align_self": null,
            "border": null,
            "bottom": null,
            "display": null,
            "flex": null,
            "flex_flow": null,
            "grid_area": null,
            "grid_auto_columns": null,
            "grid_auto_flow": null,
            "grid_auto_rows": null,
            "grid_column": null,
            "grid_gap": null,
            "grid_row": null,
            "grid_template_areas": null,
            "grid_template_columns": null,
            "grid_template_rows": null,
            "height": null,
            "justify_content": null,
            "justify_items": null,
            "left": null,
            "margin": null,
            "max_height": null,
            "max_width": null,
            "min_height": null,
            "min_width": null,
            "object_fit": null,
            "object_position": null,
            "order": null,
            "overflow": null,
            "overflow_x": null,
            "overflow_y": null,
            "padding": null,
            "right": null,
            "top": null,
            "visibility": null,
            "width": null
          }
        },
        "b2a298bb277c4ae4bee9feaba8cb2530": {
          "model_module": "@jupyter-widgets/base",
          "model_name": "LayoutModel",
          "model_module_version": "1.2.0",
          "state": {
            "_model_module": "@jupyter-widgets/base",
            "_model_module_version": "1.2.0",
            "_model_name": "LayoutModel",
            "_view_count": null,
            "_view_module": "@jupyter-widgets/base",
            "_view_module_version": "1.2.0",
            "_view_name": "LayoutView",
            "align_content": null,
            "align_items": null,
            "align_self": null,
            "border": null,
            "bottom": null,
            "display": null,
            "flex": null,
            "flex_flow": null,
            "grid_area": null,
            "grid_auto_columns": null,
            "grid_auto_flow": null,
            "grid_auto_rows": null,
            "grid_column": null,
            "grid_gap": null,
            "grid_row": null,
            "grid_template_areas": null,
            "grid_template_columns": null,
            "grid_template_rows": null,
            "height": null,
            "justify_content": null,
            "justify_items": null,
            "left": null,
            "margin": null,
            "max_height": null,
            "max_width": null,
            "min_height": null,
            "min_width": null,
            "object_fit": null,
            "object_position": null,
            "order": null,
            "overflow": null,
            "overflow_x": null,
            "overflow_y": null,
            "padding": null,
            "right": null,
            "top": null,
            "visibility": null,
            "width": null
          }
        },
        "91287cad2f244070b2a2ff93be2dbd9b": {
          "model_module": "@jupyter-widgets/controls",
          "model_name": "DescriptionStyleModel",
          "model_module_version": "1.5.0",
          "state": {
            "_model_module": "@jupyter-widgets/controls",
            "_model_module_version": "1.5.0",
            "_model_name": "DescriptionStyleModel",
            "_view_count": null,
            "_view_module": "@jupyter-widgets/base",
            "_view_module_version": "1.2.0",
            "_view_name": "StyleView",
            "description_width": ""
          }
        },
        "5e2999a0866c4d2394ffb8ed78efd3ae": {
          "model_module": "@jupyter-widgets/base",
          "model_name": "LayoutModel",
          "model_module_version": "1.2.0",
          "state": {
            "_model_module": "@jupyter-widgets/base",
            "_model_module_version": "1.2.0",
            "_model_name": "LayoutModel",
            "_view_count": null,
            "_view_module": "@jupyter-widgets/base",
            "_view_module_version": "1.2.0",
            "_view_name": "LayoutView",
            "align_content": null,
            "align_items": null,
            "align_self": null,
            "border": null,
            "bottom": null,
            "display": null,
            "flex": null,
            "flex_flow": null,
            "grid_area": null,
            "grid_auto_columns": null,
            "grid_auto_flow": null,
            "grid_auto_rows": null,
            "grid_column": null,
            "grid_gap": null,
            "grid_row": null,
            "grid_template_areas": null,
            "grid_template_columns": null,
            "grid_template_rows": null,
            "height": null,
            "justify_content": null,
            "justify_items": null,
            "left": null,
            "margin": null,
            "max_height": null,
            "max_width": null,
            "min_height": null,
            "min_width": null,
            "object_fit": null,
            "object_position": null,
            "order": null,
            "overflow": null,
            "overflow_x": null,
            "overflow_y": null,
            "padding": null,
            "right": null,
            "top": null,
            "visibility": null,
            "width": null
          }
        },
        "f71e136a87de45d3840a777f0c52dcfb": {
          "model_module": "@jupyter-widgets/controls",
          "model_name": "ProgressStyleModel",
          "model_module_version": "1.5.0",
          "state": {
            "_model_module": "@jupyter-widgets/controls",
            "_model_module_version": "1.5.0",
            "_model_name": "ProgressStyleModel",
            "_view_count": null,
            "_view_module": "@jupyter-widgets/base",
            "_view_module_version": "1.2.0",
            "_view_name": "StyleView",
            "bar_color": null,
            "description_width": ""
          }
        },
        "ed7f14f96a23495da0c3f9cd5f0c3eaf": {
          "model_module": "@jupyter-widgets/base",
          "model_name": "LayoutModel",
          "model_module_version": "1.2.0",
          "state": {
            "_model_module": "@jupyter-widgets/base",
            "_model_module_version": "1.2.0",
            "_model_name": "LayoutModel",
            "_view_count": null,
            "_view_module": "@jupyter-widgets/base",
            "_view_module_version": "1.2.0",
            "_view_name": "LayoutView",
            "align_content": null,
            "align_items": null,
            "align_self": null,
            "border": null,
            "bottom": null,
            "display": null,
            "flex": null,
            "flex_flow": null,
            "grid_area": null,
            "grid_auto_columns": null,
            "grid_auto_flow": null,
            "grid_auto_rows": null,
            "grid_column": null,
            "grid_gap": null,
            "grid_row": null,
            "grid_template_areas": null,
            "grid_template_columns": null,
            "grid_template_rows": null,
            "height": null,
            "justify_content": null,
            "justify_items": null,
            "left": null,
            "margin": null,
            "max_height": null,
            "max_width": null,
            "min_height": null,
            "min_width": null,
            "object_fit": null,
            "object_position": null,
            "order": null,
            "overflow": null,
            "overflow_x": null,
            "overflow_y": null,
            "padding": null,
            "right": null,
            "top": null,
            "visibility": null,
            "width": null
          }
        },
        "c04e40b817e443968e37cf9cf693bef2": {
          "model_module": "@jupyter-widgets/controls",
          "model_name": "DescriptionStyleModel",
          "model_module_version": "1.5.0",
          "state": {
            "_model_module": "@jupyter-widgets/controls",
            "_model_module_version": "1.5.0",
            "_model_name": "DescriptionStyleModel",
            "_view_count": null,
            "_view_module": "@jupyter-widgets/base",
            "_view_module_version": "1.2.0",
            "_view_name": "StyleView",
            "description_width": ""
          }
        },
        "712e2c07b13044a7b74cdf4ce03c52ea": {
          "model_module": "@jupyter-widgets/controls",
          "model_name": "HBoxModel",
          "model_module_version": "1.5.0",
          "state": {
            "_dom_classes": [],
            "_model_module": "@jupyter-widgets/controls",
            "_model_module_version": "1.5.0",
            "_model_name": "HBoxModel",
            "_view_count": null,
            "_view_module": "@jupyter-widgets/controls",
            "_view_module_version": "1.5.0",
            "_view_name": "HBoxView",
            "box_style": "",
            "children": [
              "IPY_MODEL_44d19e3fca004e6f9353c875d786fe04",
              "IPY_MODEL_0b43178dfa6f4fbd8af3cc93c8c7dc48",
              "IPY_MODEL_dc3198bfd273411294d9eaac65e2474a"
            ],
            "layout": "IPY_MODEL_e1ff7147b579491db44c918e7edab065"
          }
        },
        "44d19e3fca004e6f9353c875d786fe04": {
          "model_module": "@jupyter-widgets/controls",
          "model_name": "HTMLModel",
          "model_module_version": "1.5.0",
          "state": {
            "_dom_classes": [],
            "_model_module": "@jupyter-widgets/controls",
            "_model_module_version": "1.5.0",
            "_model_name": "HTMLModel",
            "_view_count": null,
            "_view_module": "@jupyter-widgets/controls",
            "_view_module_version": "1.5.0",
            "_view_name": "HTMLView",
            "description": "",
            "description_tooltip": null,
            "layout": "IPY_MODEL_22d0613774cc4e57aa3e62fb749beabf",
            "placeholder": "​",
            "style": "IPY_MODEL_66b98b2b089e4be28f28037b2d0a2fcb",
            "value": "100%"
          }
        },
        "0b43178dfa6f4fbd8af3cc93c8c7dc48": {
          "model_module": "@jupyter-widgets/controls",
          "model_name": "FloatProgressModel",
          "model_module_version": "1.5.0",
          "state": {
            "_dom_classes": [],
            "_model_module": "@jupyter-widgets/controls",
            "_model_module_version": "1.5.0",
            "_model_name": "FloatProgressModel",
            "_view_count": null,
            "_view_module": "@jupyter-widgets/controls",
            "_view_module_version": "1.5.0",
            "_view_name": "ProgressView",
            "bar_style": "success",
            "description": "",
            "description_tooltip": null,
            "layout": "IPY_MODEL_12b85f9cfd4b49efa4cb8141667e22f9",
            "max": 28881,
            "min": 0,
            "orientation": "horizontal",
            "style": "IPY_MODEL_45f229da47924c929ad4ab44e0d89f33",
            "value": 28881
          }
        },
        "dc3198bfd273411294d9eaac65e2474a": {
          "model_module": "@jupyter-widgets/controls",
          "model_name": "HTMLModel",
          "model_module_version": "1.5.0",
          "state": {
            "_dom_classes": [],
            "_model_module": "@jupyter-widgets/controls",
            "_model_module_version": "1.5.0",
            "_model_name": "HTMLModel",
            "_view_count": null,
            "_view_module": "@jupyter-widgets/controls",
            "_view_module_version": "1.5.0",
            "_view_name": "HTMLView",
            "description": "",
            "description_tooltip": null,
            "layout": "IPY_MODEL_f6debc10b92342549259cc9fb1bdc27d",
            "placeholder": "​",
            "style": "IPY_MODEL_a7f09aaf3e5e4039a29a62592823a2f3",
            "value": " 28881/28881 [00:00&lt;00:00, 759323.85it/s]"
          }
        },
        "e1ff7147b579491db44c918e7edab065": {
          "model_module": "@jupyter-widgets/base",
          "model_name": "LayoutModel",
          "model_module_version": "1.2.0",
          "state": {
            "_model_module": "@jupyter-widgets/base",
            "_model_module_version": "1.2.0",
            "_model_name": "LayoutModel",
            "_view_count": null,
            "_view_module": "@jupyter-widgets/base",
            "_view_module_version": "1.2.0",
            "_view_name": "LayoutView",
            "align_content": null,
            "align_items": null,
            "align_self": null,
            "border": null,
            "bottom": null,
            "display": null,
            "flex": null,
            "flex_flow": null,
            "grid_area": null,
            "grid_auto_columns": null,
            "grid_auto_flow": null,
            "grid_auto_rows": null,
            "grid_column": null,
            "grid_gap": null,
            "grid_row": null,
            "grid_template_areas": null,
            "grid_template_columns": null,
            "grid_template_rows": null,
            "height": null,
            "justify_content": null,
            "justify_items": null,
            "left": null,
            "margin": null,
            "max_height": null,
            "max_width": null,
            "min_height": null,
            "min_width": null,
            "object_fit": null,
            "object_position": null,
            "order": null,
            "overflow": null,
            "overflow_x": null,
            "overflow_y": null,
            "padding": null,
            "right": null,
            "top": null,
            "visibility": null,
            "width": null
          }
        },
        "22d0613774cc4e57aa3e62fb749beabf": {
          "model_module": "@jupyter-widgets/base",
          "model_name": "LayoutModel",
          "model_module_version": "1.2.0",
          "state": {
            "_model_module": "@jupyter-widgets/base",
            "_model_module_version": "1.2.0",
            "_model_name": "LayoutModel",
            "_view_count": null,
            "_view_module": "@jupyter-widgets/base",
            "_view_module_version": "1.2.0",
            "_view_name": "LayoutView",
            "align_content": null,
            "align_items": null,
            "align_self": null,
            "border": null,
            "bottom": null,
            "display": null,
            "flex": null,
            "flex_flow": null,
            "grid_area": null,
            "grid_auto_columns": null,
            "grid_auto_flow": null,
            "grid_auto_rows": null,
            "grid_column": null,
            "grid_gap": null,
            "grid_row": null,
            "grid_template_areas": null,
            "grid_template_columns": null,
            "grid_template_rows": null,
            "height": null,
            "justify_content": null,
            "justify_items": null,
            "left": null,
            "margin": null,
            "max_height": null,
            "max_width": null,
            "min_height": null,
            "min_width": null,
            "object_fit": null,
            "object_position": null,
            "order": null,
            "overflow": null,
            "overflow_x": null,
            "overflow_y": null,
            "padding": null,
            "right": null,
            "top": null,
            "visibility": null,
            "width": null
          }
        },
        "66b98b2b089e4be28f28037b2d0a2fcb": {
          "model_module": "@jupyter-widgets/controls",
          "model_name": "DescriptionStyleModel",
          "model_module_version": "1.5.0",
          "state": {
            "_model_module": "@jupyter-widgets/controls",
            "_model_module_version": "1.5.0",
            "_model_name": "DescriptionStyleModel",
            "_view_count": null,
            "_view_module": "@jupyter-widgets/base",
            "_view_module_version": "1.2.0",
            "_view_name": "StyleView",
            "description_width": ""
          }
        },
        "12b85f9cfd4b49efa4cb8141667e22f9": {
          "model_module": "@jupyter-widgets/base",
          "model_name": "LayoutModel",
          "model_module_version": "1.2.0",
          "state": {
            "_model_module": "@jupyter-widgets/base",
            "_model_module_version": "1.2.0",
            "_model_name": "LayoutModel",
            "_view_count": null,
            "_view_module": "@jupyter-widgets/base",
            "_view_module_version": "1.2.0",
            "_view_name": "LayoutView",
            "align_content": null,
            "align_items": null,
            "align_self": null,
            "border": null,
            "bottom": null,
            "display": null,
            "flex": null,
            "flex_flow": null,
            "grid_area": null,
            "grid_auto_columns": null,
            "grid_auto_flow": null,
            "grid_auto_rows": null,
            "grid_column": null,
            "grid_gap": null,
            "grid_row": null,
            "grid_template_areas": null,
            "grid_template_columns": null,
            "grid_template_rows": null,
            "height": null,
            "justify_content": null,
            "justify_items": null,
            "left": null,
            "margin": null,
            "max_height": null,
            "max_width": null,
            "min_height": null,
            "min_width": null,
            "object_fit": null,
            "object_position": null,
            "order": null,
            "overflow": null,
            "overflow_x": null,
            "overflow_y": null,
            "padding": null,
            "right": null,
            "top": null,
            "visibility": null,
            "width": null
          }
        },
        "45f229da47924c929ad4ab44e0d89f33": {
          "model_module": "@jupyter-widgets/controls",
          "model_name": "ProgressStyleModel",
          "model_module_version": "1.5.0",
          "state": {
            "_model_module": "@jupyter-widgets/controls",
            "_model_module_version": "1.5.0",
            "_model_name": "ProgressStyleModel",
            "_view_count": null,
            "_view_module": "@jupyter-widgets/base",
            "_view_module_version": "1.2.0",
            "_view_name": "StyleView",
            "bar_color": null,
            "description_width": ""
          }
        },
        "f6debc10b92342549259cc9fb1bdc27d": {
          "model_module": "@jupyter-widgets/base",
          "model_name": "LayoutModel",
          "model_module_version": "1.2.0",
          "state": {
            "_model_module": "@jupyter-widgets/base",
            "_model_module_version": "1.2.0",
            "_model_name": "LayoutModel",
            "_view_count": null,
            "_view_module": "@jupyter-widgets/base",
            "_view_module_version": "1.2.0",
            "_view_name": "LayoutView",
            "align_content": null,
            "align_items": null,
            "align_self": null,
            "border": null,
            "bottom": null,
            "display": null,
            "flex": null,
            "flex_flow": null,
            "grid_area": null,
            "grid_auto_columns": null,
            "grid_auto_flow": null,
            "grid_auto_rows": null,
            "grid_column": null,
            "grid_gap": null,
            "grid_row": null,
            "grid_template_areas": null,
            "grid_template_columns": null,
            "grid_template_rows": null,
            "height": null,
            "justify_content": null,
            "justify_items": null,
            "left": null,
            "margin": null,
            "max_height": null,
            "max_width": null,
            "min_height": null,
            "min_width": null,
            "object_fit": null,
            "object_position": null,
            "order": null,
            "overflow": null,
            "overflow_x": null,
            "overflow_y": null,
            "padding": null,
            "right": null,
            "top": null,
            "visibility": null,
            "width": null
          }
        },
        "a7f09aaf3e5e4039a29a62592823a2f3": {
          "model_module": "@jupyter-widgets/controls",
          "model_name": "DescriptionStyleModel",
          "model_module_version": "1.5.0",
          "state": {
            "_model_module": "@jupyter-widgets/controls",
            "_model_module_version": "1.5.0",
            "_model_name": "DescriptionStyleModel",
            "_view_count": null,
            "_view_module": "@jupyter-widgets/base",
            "_view_module_version": "1.2.0",
            "_view_name": "StyleView",
            "description_width": ""
          }
        },
        "e80d0dd437ef49c4abe6acf45cb82c01": {
          "model_module": "@jupyter-widgets/controls",
          "model_name": "HBoxModel",
          "model_module_version": "1.5.0",
          "state": {
            "_dom_classes": [],
            "_model_module": "@jupyter-widgets/controls",
            "_model_module_version": "1.5.0",
            "_model_name": "HBoxModel",
            "_view_count": null,
            "_view_module": "@jupyter-widgets/controls",
            "_view_module_version": "1.5.0",
            "_view_name": "HBoxView",
            "box_style": "",
            "children": [
              "IPY_MODEL_ce93382af6aa42789c30779a6efe4c83",
              "IPY_MODEL_d7635aad140f4bcb91d653026bbffa19",
              "IPY_MODEL_c5717237bb9543a480f179511531390e"
            ],
            "layout": "IPY_MODEL_207cf4b835634eedaab5e41905f73029"
          }
        },
        "ce93382af6aa42789c30779a6efe4c83": {
          "model_module": "@jupyter-widgets/controls",
          "model_name": "HTMLModel",
          "model_module_version": "1.5.0",
          "state": {
            "_dom_classes": [],
            "_model_module": "@jupyter-widgets/controls",
            "_model_module_version": "1.5.0",
            "_model_name": "HTMLModel",
            "_view_count": null,
            "_view_module": "@jupyter-widgets/controls",
            "_view_module_version": "1.5.0",
            "_view_name": "HTMLView",
            "description": "",
            "description_tooltip": null,
            "layout": "IPY_MODEL_9942ed2022914e6c997897fef20d075c",
            "placeholder": "​",
            "style": "IPY_MODEL_3f2fe0c27168422e8dc5ac84ec075f76",
            "value": "100%"
          }
        },
        "d7635aad140f4bcb91d653026bbffa19": {
          "model_module": "@jupyter-widgets/controls",
          "model_name": "FloatProgressModel",
          "model_module_version": "1.5.0",
          "state": {
            "_dom_classes": [],
            "_model_module": "@jupyter-widgets/controls",
            "_model_module_version": "1.5.0",
            "_model_name": "FloatProgressModel",
            "_view_count": null,
            "_view_module": "@jupyter-widgets/controls",
            "_view_module_version": "1.5.0",
            "_view_name": "ProgressView",
            "bar_style": "success",
            "description": "",
            "description_tooltip": null,
            "layout": "IPY_MODEL_85b231b085854ef494412fb17f6d8640",
            "max": 1648877,
            "min": 0,
            "orientation": "horizontal",
            "style": "IPY_MODEL_6eb595f046754f6bb3c5c11b203b7a17",
            "value": 1648877
          }
        },
        "c5717237bb9543a480f179511531390e": {
          "model_module": "@jupyter-widgets/controls",
          "model_name": "HTMLModel",
          "model_module_version": "1.5.0",
          "state": {
            "_dom_classes": [],
            "_model_module": "@jupyter-widgets/controls",
            "_model_module_version": "1.5.0",
            "_model_name": "HTMLModel",
            "_view_count": null,
            "_view_module": "@jupyter-widgets/controls",
            "_view_module_version": "1.5.0",
            "_view_name": "HTMLView",
            "description": "",
            "description_tooltip": null,
            "layout": "IPY_MODEL_9be298c9eb8d4bc48f3bd66f06e1fee7",
            "placeholder": "​",
            "style": "IPY_MODEL_7d803a2d16a047e4b02963c351ab3ff3",
            "value": " 1648877/1648877 [00:00&lt;00:00, 32997239.36it/s]"
          }
        },
        "207cf4b835634eedaab5e41905f73029": {
          "model_module": "@jupyter-widgets/base",
          "model_name": "LayoutModel",
          "model_module_version": "1.2.0",
          "state": {
            "_model_module": "@jupyter-widgets/base",
            "_model_module_version": "1.2.0",
            "_model_name": "LayoutModel",
            "_view_count": null,
            "_view_module": "@jupyter-widgets/base",
            "_view_module_version": "1.2.0",
            "_view_name": "LayoutView",
            "align_content": null,
            "align_items": null,
            "align_self": null,
            "border": null,
            "bottom": null,
            "display": null,
            "flex": null,
            "flex_flow": null,
            "grid_area": null,
            "grid_auto_columns": null,
            "grid_auto_flow": null,
            "grid_auto_rows": null,
            "grid_column": null,
            "grid_gap": null,
            "grid_row": null,
            "grid_template_areas": null,
            "grid_template_columns": null,
            "grid_template_rows": null,
            "height": null,
            "justify_content": null,
            "justify_items": null,
            "left": null,
            "margin": null,
            "max_height": null,
            "max_width": null,
            "min_height": null,
            "min_width": null,
            "object_fit": null,
            "object_position": null,
            "order": null,
            "overflow": null,
            "overflow_x": null,
            "overflow_y": null,
            "padding": null,
            "right": null,
            "top": null,
            "visibility": null,
            "width": null
          }
        },
        "9942ed2022914e6c997897fef20d075c": {
          "model_module": "@jupyter-widgets/base",
          "model_name": "LayoutModel",
          "model_module_version": "1.2.0",
          "state": {
            "_model_module": "@jupyter-widgets/base",
            "_model_module_version": "1.2.0",
            "_model_name": "LayoutModel",
            "_view_count": null,
            "_view_module": "@jupyter-widgets/base",
            "_view_module_version": "1.2.0",
            "_view_name": "LayoutView",
            "align_content": null,
            "align_items": null,
            "align_self": null,
            "border": null,
            "bottom": null,
            "display": null,
            "flex": null,
            "flex_flow": null,
            "grid_area": null,
            "grid_auto_columns": null,
            "grid_auto_flow": null,
            "grid_auto_rows": null,
            "grid_column": null,
            "grid_gap": null,
            "grid_row": null,
            "grid_template_areas": null,
            "grid_template_columns": null,
            "grid_template_rows": null,
            "height": null,
            "justify_content": null,
            "justify_items": null,
            "left": null,
            "margin": null,
            "max_height": null,
            "max_width": null,
            "min_height": null,
            "min_width": null,
            "object_fit": null,
            "object_position": null,
            "order": null,
            "overflow": null,
            "overflow_x": null,
            "overflow_y": null,
            "padding": null,
            "right": null,
            "top": null,
            "visibility": null,
            "width": null
          }
        },
        "3f2fe0c27168422e8dc5ac84ec075f76": {
          "model_module": "@jupyter-widgets/controls",
          "model_name": "DescriptionStyleModel",
          "model_module_version": "1.5.0",
          "state": {
            "_model_module": "@jupyter-widgets/controls",
            "_model_module_version": "1.5.0",
            "_model_name": "DescriptionStyleModel",
            "_view_count": null,
            "_view_module": "@jupyter-widgets/base",
            "_view_module_version": "1.2.0",
            "_view_name": "StyleView",
            "description_width": ""
          }
        },
        "85b231b085854ef494412fb17f6d8640": {
          "model_module": "@jupyter-widgets/base",
          "model_name": "LayoutModel",
          "model_module_version": "1.2.0",
          "state": {
            "_model_module": "@jupyter-widgets/base",
            "_model_module_version": "1.2.0",
            "_model_name": "LayoutModel",
            "_view_count": null,
            "_view_module": "@jupyter-widgets/base",
            "_view_module_version": "1.2.0",
            "_view_name": "LayoutView",
            "align_content": null,
            "align_items": null,
            "align_self": null,
            "border": null,
            "bottom": null,
            "display": null,
            "flex": null,
            "flex_flow": null,
            "grid_area": null,
            "grid_auto_columns": null,
            "grid_auto_flow": null,
            "grid_auto_rows": null,
            "grid_column": null,
            "grid_gap": null,
            "grid_row": null,
            "grid_template_areas": null,
            "grid_template_columns": null,
            "grid_template_rows": null,
            "height": null,
            "justify_content": null,
            "justify_items": null,
            "left": null,
            "margin": null,
            "max_height": null,
            "max_width": null,
            "min_height": null,
            "min_width": null,
            "object_fit": null,
            "object_position": null,
            "order": null,
            "overflow": null,
            "overflow_x": null,
            "overflow_y": null,
            "padding": null,
            "right": null,
            "top": null,
            "visibility": null,
            "width": null
          }
        },
        "6eb595f046754f6bb3c5c11b203b7a17": {
          "model_module": "@jupyter-widgets/controls",
          "model_name": "ProgressStyleModel",
          "model_module_version": "1.5.0",
          "state": {
            "_model_module": "@jupyter-widgets/controls",
            "_model_module_version": "1.5.0",
            "_model_name": "ProgressStyleModel",
            "_view_count": null,
            "_view_module": "@jupyter-widgets/base",
            "_view_module_version": "1.2.0",
            "_view_name": "StyleView",
            "bar_color": null,
            "description_width": ""
          }
        },
        "9be298c9eb8d4bc48f3bd66f06e1fee7": {
          "model_module": "@jupyter-widgets/base",
          "model_name": "LayoutModel",
          "model_module_version": "1.2.0",
          "state": {
            "_model_module": "@jupyter-widgets/base",
            "_model_module_version": "1.2.0",
            "_model_name": "LayoutModel",
            "_view_count": null,
            "_view_module": "@jupyter-widgets/base",
            "_view_module_version": "1.2.0",
            "_view_name": "LayoutView",
            "align_content": null,
            "align_items": null,
            "align_self": null,
            "border": null,
            "bottom": null,
            "display": null,
            "flex": null,
            "flex_flow": null,
            "grid_area": null,
            "grid_auto_columns": null,
            "grid_auto_flow": null,
            "grid_auto_rows": null,
            "grid_column": null,
            "grid_gap": null,
            "grid_row": null,
            "grid_template_areas": null,
            "grid_template_columns": null,
            "grid_template_rows": null,
            "height": null,
            "justify_content": null,
            "justify_items": null,
            "left": null,
            "margin": null,
            "max_height": null,
            "max_width": null,
            "min_height": null,
            "min_width": null,
            "object_fit": null,
            "object_position": null,
            "order": null,
            "overflow": null,
            "overflow_x": null,
            "overflow_y": null,
            "padding": null,
            "right": null,
            "top": null,
            "visibility": null,
            "width": null
          }
        },
        "7d803a2d16a047e4b02963c351ab3ff3": {
          "model_module": "@jupyter-widgets/controls",
          "model_name": "DescriptionStyleModel",
          "model_module_version": "1.5.0",
          "state": {
            "_model_module": "@jupyter-widgets/controls",
            "_model_module_version": "1.5.0",
            "_model_name": "DescriptionStyleModel",
            "_view_count": null,
            "_view_module": "@jupyter-widgets/base",
            "_view_module_version": "1.2.0",
            "_view_name": "StyleView",
            "description_width": ""
          }
        },
        "517277e731ee4757a4e097b003ff8c05": {
          "model_module": "@jupyter-widgets/controls",
          "model_name": "HBoxModel",
          "model_module_version": "1.5.0",
          "state": {
            "_dom_classes": [],
            "_model_module": "@jupyter-widgets/controls",
            "_model_module_version": "1.5.0",
            "_model_name": "HBoxModel",
            "_view_count": null,
            "_view_module": "@jupyter-widgets/controls",
            "_view_module_version": "1.5.0",
            "_view_name": "HBoxView",
            "box_style": "",
            "children": [
              "IPY_MODEL_6ccbc59acd834e429d11ab39db77492d",
              "IPY_MODEL_cf8d34678d9a4356b6ad952139fec3cb",
              "IPY_MODEL_e36e1d0bacb0416ca31fef5eae821643"
            ],
            "layout": "IPY_MODEL_012e8305382e4128b73b999ccd4eadc8"
          }
        },
        "6ccbc59acd834e429d11ab39db77492d": {
          "model_module": "@jupyter-widgets/controls",
          "model_name": "HTMLModel",
          "model_module_version": "1.5.0",
          "state": {
            "_dom_classes": [],
            "_model_module": "@jupyter-widgets/controls",
            "_model_module_version": "1.5.0",
            "_model_name": "HTMLModel",
            "_view_count": null,
            "_view_module": "@jupyter-widgets/controls",
            "_view_module_version": "1.5.0",
            "_view_name": "HTMLView",
            "description": "",
            "description_tooltip": null,
            "layout": "IPY_MODEL_e671a4c5549d48369f31cc943af372e6",
            "placeholder": "​",
            "style": "IPY_MODEL_966a43f4095f4b9f9d13b7f511b2ae44",
            "value": "100%"
          }
        },
        "cf8d34678d9a4356b6ad952139fec3cb": {
          "model_module": "@jupyter-widgets/controls",
          "model_name": "FloatProgressModel",
          "model_module_version": "1.5.0",
          "state": {
            "_dom_classes": [],
            "_model_module": "@jupyter-widgets/controls",
            "_model_module_version": "1.5.0",
            "_model_name": "FloatProgressModel",
            "_view_count": null,
            "_view_module": "@jupyter-widgets/controls",
            "_view_module_version": "1.5.0",
            "_view_name": "ProgressView",
            "bar_style": "success",
            "description": "",
            "description_tooltip": null,
            "layout": "IPY_MODEL_79cfa34cc30341589d3ca2dc8a434509",
            "max": 4542,
            "min": 0,
            "orientation": "horizontal",
            "style": "IPY_MODEL_e1f9b097e2a144289470dd24451ab002",
            "value": 4542
          }
        },
        "e36e1d0bacb0416ca31fef5eae821643": {
          "model_module": "@jupyter-widgets/controls",
          "model_name": "HTMLModel",
          "model_module_version": "1.5.0",
          "state": {
            "_dom_classes": [],
            "_model_module": "@jupyter-widgets/controls",
            "_model_module_version": "1.5.0",
            "_model_name": "HTMLModel",
            "_view_count": null,
            "_view_module": "@jupyter-widgets/controls",
            "_view_module_version": "1.5.0",
            "_view_name": "HTMLView",
            "description": "",
            "description_tooltip": null,
            "layout": "IPY_MODEL_82eac6efc4ad4702a9b9e5b32500fa18",
            "placeholder": "​",
            "style": "IPY_MODEL_6c288daef4ca45c883a8ec32117a0369",
            "value": " 4542/4542 [00:00&lt;00:00, 88695.81it/s]"
          }
        },
        "012e8305382e4128b73b999ccd4eadc8": {
          "model_module": "@jupyter-widgets/base",
          "model_name": "LayoutModel",
          "model_module_version": "1.2.0",
          "state": {
            "_model_module": "@jupyter-widgets/base",
            "_model_module_version": "1.2.0",
            "_model_name": "LayoutModel",
            "_view_count": null,
            "_view_module": "@jupyter-widgets/base",
            "_view_module_version": "1.2.0",
            "_view_name": "LayoutView",
            "align_content": null,
            "align_items": null,
            "align_self": null,
            "border": null,
            "bottom": null,
            "display": null,
            "flex": null,
            "flex_flow": null,
            "grid_area": null,
            "grid_auto_columns": null,
            "grid_auto_flow": null,
            "grid_auto_rows": null,
            "grid_column": null,
            "grid_gap": null,
            "grid_row": null,
            "grid_template_areas": null,
            "grid_template_columns": null,
            "grid_template_rows": null,
            "height": null,
            "justify_content": null,
            "justify_items": null,
            "left": null,
            "margin": null,
            "max_height": null,
            "max_width": null,
            "min_height": null,
            "min_width": null,
            "object_fit": null,
            "object_position": null,
            "order": null,
            "overflow": null,
            "overflow_x": null,
            "overflow_y": null,
            "padding": null,
            "right": null,
            "top": null,
            "visibility": null,
            "width": null
          }
        },
        "e671a4c5549d48369f31cc943af372e6": {
          "model_module": "@jupyter-widgets/base",
          "model_name": "LayoutModel",
          "model_module_version": "1.2.0",
          "state": {
            "_model_module": "@jupyter-widgets/base",
            "_model_module_version": "1.2.0",
            "_model_name": "LayoutModel",
            "_view_count": null,
            "_view_module": "@jupyter-widgets/base",
            "_view_module_version": "1.2.0",
            "_view_name": "LayoutView",
            "align_content": null,
            "align_items": null,
            "align_self": null,
            "border": null,
            "bottom": null,
            "display": null,
            "flex": null,
            "flex_flow": null,
            "grid_area": null,
            "grid_auto_columns": null,
            "grid_auto_flow": null,
            "grid_auto_rows": null,
            "grid_column": null,
            "grid_gap": null,
            "grid_row": null,
            "grid_template_areas": null,
            "grid_template_columns": null,
            "grid_template_rows": null,
            "height": null,
            "justify_content": null,
            "justify_items": null,
            "left": null,
            "margin": null,
            "max_height": null,
            "max_width": null,
            "min_height": null,
            "min_width": null,
            "object_fit": null,
            "object_position": null,
            "order": null,
            "overflow": null,
            "overflow_x": null,
            "overflow_y": null,
            "padding": null,
            "right": null,
            "top": null,
            "visibility": null,
            "width": null
          }
        },
        "966a43f4095f4b9f9d13b7f511b2ae44": {
          "model_module": "@jupyter-widgets/controls",
          "model_name": "DescriptionStyleModel",
          "model_module_version": "1.5.0",
          "state": {
            "_model_module": "@jupyter-widgets/controls",
            "_model_module_version": "1.5.0",
            "_model_name": "DescriptionStyleModel",
            "_view_count": null,
            "_view_module": "@jupyter-widgets/base",
            "_view_module_version": "1.2.0",
            "_view_name": "StyleView",
            "description_width": ""
          }
        },
        "79cfa34cc30341589d3ca2dc8a434509": {
          "model_module": "@jupyter-widgets/base",
          "model_name": "LayoutModel",
          "model_module_version": "1.2.0",
          "state": {
            "_model_module": "@jupyter-widgets/base",
            "_model_module_version": "1.2.0",
            "_model_name": "LayoutModel",
            "_view_count": null,
            "_view_module": "@jupyter-widgets/base",
            "_view_module_version": "1.2.0",
            "_view_name": "LayoutView",
            "align_content": null,
            "align_items": null,
            "align_self": null,
            "border": null,
            "bottom": null,
            "display": null,
            "flex": null,
            "flex_flow": null,
            "grid_area": null,
            "grid_auto_columns": null,
            "grid_auto_flow": null,
            "grid_auto_rows": null,
            "grid_column": null,
            "grid_gap": null,
            "grid_row": null,
            "grid_template_areas": null,
            "grid_template_columns": null,
            "grid_template_rows": null,
            "height": null,
            "justify_content": null,
            "justify_items": null,
            "left": null,
            "margin": null,
            "max_height": null,
            "max_width": null,
            "min_height": null,
            "min_width": null,
            "object_fit": null,
            "object_position": null,
            "order": null,
            "overflow": null,
            "overflow_x": null,
            "overflow_y": null,
            "padding": null,
            "right": null,
            "top": null,
            "visibility": null,
            "width": null
          }
        },
        "e1f9b097e2a144289470dd24451ab002": {
          "model_module": "@jupyter-widgets/controls",
          "model_name": "ProgressStyleModel",
          "model_module_version": "1.5.0",
          "state": {
            "_model_module": "@jupyter-widgets/controls",
            "_model_module_version": "1.5.0",
            "_model_name": "ProgressStyleModel",
            "_view_count": null,
            "_view_module": "@jupyter-widgets/base",
            "_view_module_version": "1.2.0",
            "_view_name": "StyleView",
            "bar_color": null,
            "description_width": ""
          }
        },
        "82eac6efc4ad4702a9b9e5b32500fa18": {
          "model_module": "@jupyter-widgets/base",
          "model_name": "LayoutModel",
          "model_module_version": "1.2.0",
          "state": {
            "_model_module": "@jupyter-widgets/base",
            "_model_module_version": "1.2.0",
            "_model_name": "LayoutModel",
            "_view_count": null,
            "_view_module": "@jupyter-widgets/base",
            "_view_module_version": "1.2.0",
            "_view_name": "LayoutView",
            "align_content": null,
            "align_items": null,
            "align_self": null,
            "border": null,
            "bottom": null,
            "display": null,
            "flex": null,
            "flex_flow": null,
            "grid_area": null,
            "grid_auto_columns": null,
            "grid_auto_flow": null,
            "grid_auto_rows": null,
            "grid_column": null,
            "grid_gap": null,
            "grid_row": null,
            "grid_template_areas": null,
            "grid_template_columns": null,
            "grid_template_rows": null,
            "height": null,
            "justify_content": null,
            "justify_items": null,
            "left": null,
            "margin": null,
            "max_height": null,
            "max_width": null,
            "min_height": null,
            "min_width": null,
            "object_fit": null,
            "object_position": null,
            "order": null,
            "overflow": null,
            "overflow_x": null,
            "overflow_y": null,
            "padding": null,
            "right": null,
            "top": null,
            "visibility": null,
            "width": null
          }
        },
        "6c288daef4ca45c883a8ec32117a0369": {
          "model_module": "@jupyter-widgets/controls",
          "model_name": "DescriptionStyleModel",
          "model_module_version": "1.5.0",
          "state": {
            "_model_module": "@jupyter-widgets/controls",
            "_model_module_version": "1.5.0",
            "_model_name": "DescriptionStyleModel",
            "_view_count": null,
            "_view_module": "@jupyter-widgets/base",
            "_view_module_version": "1.2.0",
            "_view_name": "StyleView",
            "description_width": ""
          }
        }
      }
    }
  },
  "cells": [
    {
      "cell_type": "markdown",
      "source": [
        "#Convolutional Neural Network"
      ],
      "metadata": {
        "id": "OM43ccB3ueRz"
      }
    },
    {
      "cell_type": "markdown",
      "source": [
        "As redes neurais convolucionais se distinguem de outras redes neurais por terem desempenho superior com dados de imagem e áudio. Eles têm 3 camadas, à medida que as formas são revestidas pelos dados da imagem progridem da CNN, ela começa a reconhecer elementos ou maiores até mesmo identificar o objeto identificado ou objeto. A cada camada, a CNN aumenta em sua complexidade, identificando maiores porções da imagem.\n",
        "\n",
        "* convolutional layer\n",
        "\n",
        "* pool layer\n",
        "\n",
        "* Fully connected (FC) layer\n",
        "\n",
        "#### convolutional layer\n",
        "A camada convolucional é a parte central de uma CNN, é onde ocorre a maior parte da computação. Ela precisa de alguns componentes, que são dados de entrada, um filtro e um mapa de recursos. \n",
        "\n",
        "Considerando uma imagem colorida, composta por uma matriz de pixels em 3D. A entrada terá três dimensões — altura, largura e profundidade — que correspondem ao RGB em uma imagem. Também temos um detector de feição, também conhecido como kernel ou filtro, que irá percorrer os campos receptivos da imagem, verificando se a feição está presente. Esse processo é conhecido como convolução.\n",
        "\n",
        "Embora possa variar em tamanho, o tamanho do filtro é normalmente uma matriz 3x3; isso também determina o tamanho do campo receptivo. O filtro é  aplicado a uma área da imagem em que um produto escalar é calculado entre os pixels de entrada e o filtro. Este produto escalar é então alimentado em uma matriz de saída. Depois, o filtro muda um passo, repetindo o processo até que o kernel tenha varrido toda a imagem. A saída final da série de produtos escalares da entrada e do filtro é conhecida como mapa de recursos, mapa de ativação ou recurso convoluído.\n",
        "\n",
        "Na imagem abaixo vemos que , cada valor de saída no mapa de recursos não precisa se conectar a cada valor de pixel na imagem de entrada. Ele só precisa se conectar ao campo receptivo, onde o filtro está sendo aplicado.\n",
        "\n",
        "![image](https://user-images.githubusercontent.com/14276167/179381754-89dfc357-6549-4854-9559-efc1f8070ef1.png)\n",
        "\n",
        "Os pesos no detector de recursos permanecem fixos à medida que ele se move pela imagem, isso é conhecido como compartilhamento de parâmetros. Alguns parâmetros, como os valores de peso, se ajustam durante o treinamento através do processo de retropropagação e gradiente descendente. No entanto, existem três hiperparâmetros que afetam o tamanho do volume da saída que precisam ser definidos antes do início do treinamento da rede neural. \n",
        "\n",
        "Esses incluem:\n",
        "\n",
        "1. O número de filtros -> afeta a profundidade da saída. Por exemplo, três filtros distintos produziriam três mapas de recursos diferentes, criando uma profundidade de três.\n",
        "\n",
        "2. Stride -> é a distância, ou número de pixels, que o kernel se move sobre a matriz de entrada. Embora valores de passada de dois ou mais sejam raros, uma passada maior produz uma saída menor.\n",
        "\n",
        "3. Zero padding ->  geralmente é usado quando os filtros não se ajustam à imagem de entrada. Isso define todos os elementos que estão fora da matriz de entrada para zero, produzindo uma saída maior ou de tamanho igual. \n",
        "\n",
        "Após cada operação de convolução, uma CNN aplica uma transformação de Unidade Linear Retificada (ReLU) ao mapa de características, para introduzir a não linearidade no modelo.\n",
        "\n",
        "#### Pooling Layer\n",
        "Conduz a redução de dimensionalidade, reduzindo o número de parâmetros na entrada. Varre um filtro em toda a entrada, esse filtro não possui pesose sim um kernel que aplica uma função de agregação aos valores dentro do campo receptivo e preenche a matriz de saída.\n",
        "\n",
        "#### Fully-Connected Layer\n",
        "Essa camada realiza a tarefa de classificação com base nas características extraídas das camadas anteriores e seus diferentes filtros. Enquanto as camadas convolucionais e de pooling tendem a usar funções ReLu, as camadas FC geralmente aproveitam uma função de ativação softmax para classificar as entradas adequadamente, produzindo uma probabilidade de 0 a 1.\n",
        "\n",
        "Na camada Fully-Connected Layer, cada nó na camada de saída se conecta diretamente a um nó na camada anterior."
      ],
      "metadata": {
        "id": "ufpcYleyufbV"
      }
    },
    {
      "cell_type": "markdown",
      "source": [
        "#Preparando o ambiente"
      ],
      "metadata": {
        "id": "vQZbinHTolT8"
      }
    },
    {
      "cell_type": "code",
      "execution_count": 19,
      "metadata": {
        "id": "rwIQr_tDohX2"
      },
      "outputs": [],
      "source": [
        "import torch\n",
        "import torch.nn as nn\n",
        "import torch.nn.functional as F\n",
        "import torch.optim as optim\n",
        "from torchvision import datasets, transforms\n",
        "from tqdm.autonotebook import tqdm\n",
        "from torchsummary import summary\n",
        "from tqdm import tqdm\n",
        "\n",
        "import matplotlib.pyplot as plt \n",
        "import numpy as np"
      ]
    },
    {
      "cell_type": "markdown",
      "source": [
        "#Leitura da base de dados\n",
        "\n",
        "\n",
        "*   Criação de diretório\n",
        "*   Conversão da imagem em tensor\n",
        "*   Noemalização dos dados\n",
        "\n"
      ],
      "metadata": {
        "id": "Y5B8j_-AooQ9"
      }
    },
    {
      "cell_type": "code",
      "source": [
        "train = datasets.MNIST('../data', train=True, download=True, \n",
        "                    transform=transforms.Compose([\n",
        "                        transforms.ToTensor(), \n",
        "                        transforms.Normalize((0.1307,), (0.3081,)) #\n",
        "]))\n",
        "test = datasets.MNIST('../data', train=False,  \n",
        "                   transform=transforms.Compose([ \n",
        "                        transforms.ToTensor(),\n",
        "                        transforms.Normalize((0.1307,), (0.3081,)) \n",
        "]))"
      ],
      "metadata": {
        "colab": {
          "base_uri": "https://localhost:8080/",
          "height": 428,
          "referenced_widgets": [
            "fd34aa6a91bf46ae9df2b9a1c7402526",
            "987e7d8054874640973d3fca22b5e9df",
            "05633e31a77844b482ad6967ed65c960",
            "99083e588214431ba7f89d9dc9d6d27e",
            "aef972fd2ad54f128d0c13e7717a24a4",
            "b2a298bb277c4ae4bee9feaba8cb2530",
            "91287cad2f244070b2a2ff93be2dbd9b",
            "5e2999a0866c4d2394ffb8ed78efd3ae",
            "f71e136a87de45d3840a777f0c52dcfb",
            "ed7f14f96a23495da0c3f9cd5f0c3eaf",
            "c04e40b817e443968e37cf9cf693bef2",
            "712e2c07b13044a7b74cdf4ce03c52ea",
            "44d19e3fca004e6f9353c875d786fe04",
            "0b43178dfa6f4fbd8af3cc93c8c7dc48",
            "dc3198bfd273411294d9eaac65e2474a",
            "e1ff7147b579491db44c918e7edab065",
            "22d0613774cc4e57aa3e62fb749beabf",
            "66b98b2b089e4be28f28037b2d0a2fcb",
            "12b85f9cfd4b49efa4cb8141667e22f9",
            "45f229da47924c929ad4ab44e0d89f33",
            "f6debc10b92342549259cc9fb1bdc27d",
            "a7f09aaf3e5e4039a29a62592823a2f3",
            "e80d0dd437ef49c4abe6acf45cb82c01",
            "ce93382af6aa42789c30779a6efe4c83",
            "d7635aad140f4bcb91d653026bbffa19",
            "c5717237bb9543a480f179511531390e",
            "207cf4b835634eedaab5e41905f73029",
            "9942ed2022914e6c997897fef20d075c",
            "3f2fe0c27168422e8dc5ac84ec075f76",
            "85b231b085854ef494412fb17f6d8640",
            "6eb595f046754f6bb3c5c11b203b7a17",
            "9be298c9eb8d4bc48f3bd66f06e1fee7",
            "7d803a2d16a047e4b02963c351ab3ff3",
            "517277e731ee4757a4e097b003ff8c05",
            "6ccbc59acd834e429d11ab39db77492d",
            "cf8d34678d9a4356b6ad952139fec3cb",
            "e36e1d0bacb0416ca31fef5eae821643",
            "012e8305382e4128b73b999ccd4eadc8",
            "e671a4c5549d48369f31cc943af372e6",
            "966a43f4095f4b9f9d13b7f511b2ae44",
            "79cfa34cc30341589d3ca2dc8a434509",
            "e1f9b097e2a144289470dd24451ab002",
            "82eac6efc4ad4702a9b9e5b32500fa18",
            "6c288daef4ca45c883a8ec32117a0369"
          ]
        },
        "id": "1GBjVsnpoqd-",
        "outputId": "a90209bb-a736-4cde-f2a4-c8130854fe7d"
      },
      "execution_count": 2,
      "outputs": [
        {
          "output_type": "stream",
          "name": "stdout",
          "text": [
            "Downloading http://yann.lecun.com/exdb/mnist/train-images-idx3-ubyte.gz\n",
            "Downloading http://yann.lecun.com/exdb/mnist/train-images-idx3-ubyte.gz to ../data/MNIST/raw/train-images-idx3-ubyte.gz\n"
          ]
        },
        {
          "output_type": "display_data",
          "data": {
            "text/plain": [
              "  0%|          | 0/9912422 [00:00<?, ?it/s]"
            ],
            "application/vnd.jupyter.widget-view+json": {
              "version_major": 2,
              "version_minor": 0,
              "model_id": "fd34aa6a91bf46ae9df2b9a1c7402526"
            }
          },
          "metadata": {}
        },
        {
          "output_type": "stream",
          "name": "stdout",
          "text": [
            "Extracting ../data/MNIST/raw/train-images-idx3-ubyte.gz to ../data/MNIST/raw\n",
            "\n",
            "Downloading http://yann.lecun.com/exdb/mnist/train-labels-idx1-ubyte.gz\n",
            "Downloading http://yann.lecun.com/exdb/mnist/train-labels-idx1-ubyte.gz to ../data/MNIST/raw/train-labels-idx1-ubyte.gz\n"
          ]
        },
        {
          "output_type": "display_data",
          "data": {
            "text/plain": [
              "  0%|          | 0/28881 [00:00<?, ?it/s]"
            ],
            "application/vnd.jupyter.widget-view+json": {
              "version_major": 2,
              "version_minor": 0,
              "model_id": "712e2c07b13044a7b74cdf4ce03c52ea"
            }
          },
          "metadata": {}
        },
        {
          "output_type": "stream",
          "name": "stdout",
          "text": [
            "Extracting ../data/MNIST/raw/train-labels-idx1-ubyte.gz to ../data/MNIST/raw\n",
            "\n",
            "Downloading http://yann.lecun.com/exdb/mnist/t10k-images-idx3-ubyte.gz\n",
            "Downloading http://yann.lecun.com/exdb/mnist/t10k-images-idx3-ubyte.gz to ../data/MNIST/raw/t10k-images-idx3-ubyte.gz\n"
          ]
        },
        {
          "output_type": "display_data",
          "data": {
            "text/plain": [
              "  0%|          | 0/1648877 [00:00<?, ?it/s]"
            ],
            "application/vnd.jupyter.widget-view+json": {
              "version_major": 2,
              "version_minor": 0,
              "model_id": "e80d0dd437ef49c4abe6acf45cb82c01"
            }
          },
          "metadata": {}
        },
        {
          "output_type": "stream",
          "name": "stdout",
          "text": [
            "Extracting ../data/MNIST/raw/t10k-images-idx3-ubyte.gz to ../data/MNIST/raw\n",
            "\n",
            "Downloading http://yann.lecun.com/exdb/mnist/t10k-labels-idx1-ubyte.gz\n",
            "Downloading http://yann.lecun.com/exdb/mnist/t10k-labels-idx1-ubyte.gz to ../data/MNIST/raw/t10k-labels-idx1-ubyte.gz\n"
          ]
        },
        {
          "output_type": "display_data",
          "data": {
            "text/plain": [
              "  0%|          | 0/4542 [00:00<?, ?it/s]"
            ],
            "application/vnd.jupyter.widget-view+json": {
              "version_major": 2,
              "version_minor": 0,
              "model_id": "517277e731ee4757a4e097b003ff8c05"
            }
          },
          "metadata": {}
        },
        {
          "output_type": "stream",
          "name": "stdout",
          "text": [
            "Extracting ../data/MNIST/raw/t10k-labels-idx1-ubyte.gz to ../data/MNIST/raw\n",
            "\n"
          ]
        }
      ]
    },
    {
      "cell_type": "markdown",
      "source": [
        "# Modelo\n",
        "## Configurações do modelo\n",
        "\n",
        "O CUDA executa um cálculo com a GPU, que garante que o compilador seja direcionado para a parte que corresponde ao núcleo da GPU. Torna a unidade de processamento eficiente para a operação a ser realizada. semelhante a um ponteiro."
      ],
      "metadata": {
        "id": "bJ6r46_txNsi"
      }
    },
    {
      "cell_type": "code",
      "source": [
        "SEED = 1\n",
        "\n",
        "cuda = torch.cuda.is_available()\n",
        "print(\"CUDA:\", cuda)\n",
        "\n",
        "torch.manual_seed(SEED)\n",
        "\n",
        "if cuda:\n",
        "    torch.cuda.manual_seed(SEED)"
      ],
      "metadata": {
        "colab": {
          "base_uri": "https://localhost:8080/"
        },
        "id": "AmES0VMnxRMz",
        "outputId": "c346a41c-5a59-4517-e35f-8d03e2ad1b55"
      },
      "execution_count": 4,
      "outputs": [
        {
          "output_type": "stream",
          "name": "stdout",
          "text": [
            "CUDA: False\n"
          ]
        }
      ]
    },
    {
      "cell_type": "code",
      "source": [
        "dataloader_args = dict(shuffle=True, batch_size=128, num_workers=2, pin_memory=True) if cuda else dict(shuffle=True, batch_size=64)\n",
        "train_loader = torch.utils.data.DataLoader(train, **dataloader_args)\n",
        "test_loader = torch.utils.data.DataLoader(test, **dataloader_args)"
      ],
      "metadata": {
        "id": "z3lq0mOB2Cxy"
      },
      "execution_count": 5,
      "outputs": []
    },
    {
      "cell_type": "markdown",
      "source": [
        "## Cálculo dos parâmetros do modelo\n",
        "![image.png](data:image/png;base64,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)"
      ],
      "metadata": {
        "id": "MpVcRjvm3Omi"
      }
    },
    {
      "cell_type": "markdown",
      "source": [
        "\n",
        "\n",
        "*   Input Block\n",
        "\t* output_size = 26    RF:  2\n",
        "* CONVOLUTION BLOCK 1\n",
        " \t* output_size = 24 RF: 5\n",
        " \t* output_size = 12    RF:  6\n",
        "* TRANSITION BLOCK 1\n",
        "  * output_size = 12    RF:  6\n",
        "* CONVOLUTION BLOCK \n",
        "  * output_size = 10    RF:  10\n",
        "  * output_size = 8    RF: 14\n",
        "  * output_size = 6    RF: 18\n",
        "* Global average pooling\n",
        "  * output_size = 1    RF:  28\n",
        "* Fully connected\n",
        "  * output_size = 1    RF: 28\n",
        "  * output  RF: 28\n",
        "        \n"
      ],
      "metadata": {
        "id": "7OPANauZ3r2J"
      }
    },
    {
      "cell_type": "code",
      "source": [
        "class Net(nn.Module):\n",
        "    def __init__(self):\n",
        "        super(Net, self).__init__()\n",
        "        \n",
        "        self.convblock1 = nn.Sequential(\n",
        "            nn.Conv2d(in_channels=1, out_channels=8, kernel_size=(3, 3), padding=0, bias=False),\n",
        "            nn.ReLU(),\n",
        "        )        \n",
        "        self.convblock2 = nn.Sequential(\n",
        "            nn.Conv2d(in_channels=8, out_channels=16, kernel_size=(3, 3), padding=0, bias=False),  \n",
        "            nn.ReLU(),\n",
        "        ) \n",
        "        self.pool1 = nn.MaxPool2d(2, 2)        \n",
        "        self.trans1 = nn.Sequential(\n",
        "            nn.Conv2d(in_channels=16, out_channels=8, kernel_size=(1, 1), padding=0, bias=False),\n",
        "            nn.ReLU()\n",
        "        )        \n",
        "        self.convblock3 = nn.Sequential(\n",
        "            nn.Conv2d(in_channels=8, out_channels=12, kernel_size=(3, 3), padding=0, bias=False), \n",
        "            nn.ReLU(),\n",
        "            nn.Conv2d(in_channels=12, out_channels=16, kernel_size=(3, 3), padding=0, bias=False), \n",
        "            nn.ReLU(),\n",
        "            nn.Conv2d(in_channels=16, out_channels=20, kernel_size=(3, 3), padding=0, bias=False), \n",
        "            nn.ReLU(),\n",
        "        )         \n",
        "        \n",
        "        self.gap = nn.Sequential(\n",
        "            nn.AvgPool2d(6)  \n",
        "        )\n",
        "\n",
        "       \n",
        "        self.convblock5 = nn.Sequential(\n",
        "            nn.Conv2d(in_channels=20, out_channels=16, kernel_size=(1, 1), padding=0, bias=False), \n",
        "            nn.ReLU(),\n",
        "            nn.Conv2d(in_channels=16, out_channels=10, kernel_size=(1, 1), padding=0, bias=False),  \n",
        "            )\n",
        "\n",
        "    def forward(self, x):\n",
        "        x = self.convblock1(x)\n",
        "        x = self.convblock2(x)\n",
        "        x = self.pool1(x)\n",
        "        x = self.trans1(x)\n",
        "        x = self.convblock3(x)\n",
        "        x = self.gap(x)\n",
        "        x = self.convblock5(x)\n",
        "        x = x.view(-1, 10)   # Converte 2D to 1D\n",
        "        \n",
        "        return F.log_softmax(x, dim=-1)"
      ],
      "metadata": {
        "id": "aSOvsAW02QE_"
      },
      "execution_count": 9,
      "outputs": []
    },
    {
      "cell_type": "code",
      "source": [
        "use_cuda = torch.cuda.is_available()\n",
        "device = torch.device(\"cuda\" if use_cuda else \"cpu\")\n",
        "print(device)\n",
        "model = Net().to(device)\n",
        "summary(model, input_size=(1, 28, 28))"
      ],
      "metadata": {
        "colab": {
          "base_uri": "https://localhost:8080/"
        },
        "id": "O6Qjy3UE2WXZ",
        "outputId": "fe428451-6a23-4242-ba30-be87047b5873"
      },
      "execution_count": 33,
      "outputs": [
        {
          "output_type": "stream",
          "name": "stdout",
          "text": [
            "cpu\n",
            "----------------------------------------------------------------\n",
            "        Layer (type)               Output Shape         Param #\n",
            "================================================================\n",
            "            Conv2d-1            [-1, 8, 26, 26]              72\n",
            "              ReLU-2            [-1, 8, 26, 26]               0\n",
            "            Conv2d-3           [-1, 16, 24, 24]           1,152\n",
            "              ReLU-4           [-1, 16, 24, 24]               0\n",
            "         MaxPool2d-5           [-1, 16, 12, 12]               0\n",
            "            Conv2d-6            [-1, 8, 12, 12]             128\n",
            "              ReLU-7            [-1, 8, 12, 12]               0\n",
            "            Conv2d-8           [-1, 12, 10, 10]             864\n",
            "              ReLU-9           [-1, 12, 10, 10]               0\n",
            "           Conv2d-10             [-1, 16, 8, 8]           1,728\n",
            "             ReLU-11             [-1, 16, 8, 8]               0\n",
            "           Conv2d-12             [-1, 20, 6, 6]           2,880\n",
            "             ReLU-13             [-1, 20, 6, 6]               0\n",
            "        AvgPool2d-14             [-1, 20, 1, 1]               0\n",
            "           Conv2d-15             [-1, 16, 1, 1]             320\n",
            "             ReLU-16             [-1, 16, 1, 1]               0\n",
            "           Conv2d-17             [-1, 10, 1, 1]             160\n",
            "================================================================\n",
            "Total params: 7,304\n",
            "Trainable params: 7,304\n",
            "Non-trainable params: 0\n",
            "----------------------------------------------------------------\n",
            "Input size (MB): 0.00\n",
            "Forward/backward pass size (MB): 0.30\n",
            "Params size (MB): 0.03\n",
            "Estimated Total Size (MB): 0.33\n",
            "----------------------------------------------------------------\n"
          ]
        }
      ]
    },
    {
      "cell_type": "markdown",
      "source": [
        ""
      ],
      "metadata": {
        "id": "1-JB05F1EBi-"
      }
    },
    {
      "cell_type": "code",
      "source": [
        "train_losses = []\n",
        "test_losses = []\n",
        "train_acc = []\n",
        "test_acc = []\n"
      ],
      "metadata": {
        "id": "a_YblGZ-KTeE"
      },
      "execution_count": 20,
      "outputs": []
    },
    {
      "cell_type": "code",
      "source": [
        "def train(model, device, train_loader, optimizer, epoch):\n",
        "  model.train()\n",
        "  pbar = tqdm(train_loader)\n",
        "  correct = 0\n",
        "  processed = 0\n",
        "  for batch_idx, (data, target) in enumerate(pbar):\n",
        "   \n",
        "    data, target = data.to(device), target.to(device)\n",
        "\n",
        "    optimizer.zero_grad()\n",
        "    y_pred = model(data)\n",
        "\n",
        "    # Calcula a perda\n",
        "    loss = F.nll_loss(y_pred, target)\n",
        "    train_losses.append(loss)\n",
        "\n",
        "    # Backpropagation\n",
        "    loss.backward()\n",
        "    optimizer.step()    \n",
        "    pred = y_pred.argmax(dim=1, keepdim=True) \n",
        "    correct += pred.eq(target.view_as(pred)).sum().item()\n",
        "    processed += len(data)\n",
        "\n",
        "    pbar.set_description(desc= f'Batch_id={batch_idx} Loss={loss.item():.5f} Accuracy={100*correct/processed:0.2f}')\n",
        "    train_acc.append(100*correct/processed)\n",
        "def test(model, device, test_loader):\n",
        "    model.eval()\n",
        "    test_loss = 0\n",
        "    correct = 0\n",
        "    with torch.no_grad():\n",
        "        for data, target in test_loader:\n",
        "            data, target = data.to(device), target.to(device)\n",
        "            output = model(data)\n",
        "            test_loss += F.nll_loss(output, target, reduction='sum').item() \n",
        "            pred = output.argmax(dim=1, keepdim=True)  \n",
        "            correct += pred.eq(target.view_as(pred)).sum().item()\n",
        "\n",
        "    test_loss /= len(test_loader.dataset)\n",
        "    test_losses.append(test_loss)\n",
        "\n",
        "    print('\\nTest set: Average loss: {:.4f}, Accuracy: {}/{} ({:.2f}%)\\n'.format(\n",
        "        test_loss, correct, len(test_loader.dataset),\n",
        "        100. * correct / len(test_loader.dataset)))\n",
        "    \n",
        "    test_acc.append(100. * correct / len(test_loader.dataset))"
      ],
      "metadata": {
        "id": "EojDEt__EBsz"
      },
      "execution_count": 21,
      "outputs": []
    },
    {
      "cell_type": "markdown",
      "source": [
        "## Execução"
      ],
      "metadata": {
        "id": "DnmJH3gyKndI"
      }
    },
    {
      "cell_type": "code",
      "source": [
        "model =  Net().to(device)\n",
        "optimizer = optim.SGD(model.parameters(), lr=0.01, momentum=0.9)\n",
        "NUM_EPOCHS = 15\n",
        "for epoch in range(1,NUM_EPOCHS+1):\n",
        "    print(\"EPOCH:\", epoch)\n",
        "    train(model, device, train_loader, optimizer, epoch)\n",
        "    test(model, device, test_loader)"
      ],
      "metadata": {
        "colab": {
          "base_uri": "https://localhost:8080/"
        },
        "id": "0ovr_kh4Kpyp",
        "outputId": "c8853207-a88a-4d9c-a679-97f1a050279c"
      },
      "execution_count": 22,
      "outputs": [
        {
          "output_type": "stream",
          "name": "stdout",
          "text": [
            "EPOCH: 1\n"
          ]
        },
        {
          "output_type": "stream",
          "name": "stderr",
          "text": [
            "Batch_id=937 Loss=2.30204 Accuracy=9.86: 100%|██████████| 938/938 [00:41<00:00, 22.79it/s]\n"
          ]
        },
        {
          "output_type": "stream",
          "name": "stdout",
          "text": [
            "\n",
            "Test set: Average loss: 2.3024, Accuracy: 958/10000 (9.58%)\n",
            "\n",
            "EPOCH: 2\n"
          ]
        },
        {
          "output_type": "stream",
          "name": "stderr",
          "text": [
            "Batch_id=937 Loss=1.14968 Accuracy=15.12: 100%|██████████| 938/938 [00:40<00:00, 23.39it/s]\n"
          ]
        },
        {
          "output_type": "stream",
          "name": "stdout",
          "text": [
            "\n",
            "Test set: Average loss: 1.0244, Accuracy: 6526/10000 (65.26%)\n",
            "\n",
            "EPOCH: 3\n"
          ]
        },
        {
          "output_type": "stream",
          "name": "stderr",
          "text": [
            "Batch_id=937 Loss=0.04412 Accuracy=90.40: 100%|██████████| 938/938 [00:39<00:00, 23.59it/s]\n"
          ]
        },
        {
          "output_type": "stream",
          "name": "stdout",
          "text": [
            "\n",
            "Test set: Average loss: 0.1219, Accuracy: 9632/10000 (96.32%)\n",
            "\n",
            "EPOCH: 4\n"
          ]
        },
        {
          "output_type": "stream",
          "name": "stderr",
          "text": [
            "Batch_id=937 Loss=0.06429 Accuracy=96.06: 100%|██████████| 938/938 [00:40<00:00, 23.00it/s]\n"
          ]
        },
        {
          "output_type": "stream",
          "name": "stdout",
          "text": [
            "\n",
            "Test set: Average loss: 0.0790, Accuracy: 9767/10000 (97.67%)\n",
            "\n",
            "EPOCH: 5\n"
          ]
        },
        {
          "output_type": "stream",
          "name": "stderr",
          "text": [
            "Batch_id=937 Loss=0.02071 Accuracy=97.14: 100%|██████████| 938/938 [00:39<00:00, 23.58it/s]\n"
          ]
        },
        {
          "output_type": "stream",
          "name": "stdout",
          "text": [
            "\n",
            "Test set: Average loss: 0.0763, Accuracy: 9768/10000 (97.68%)\n",
            "\n",
            "EPOCH: 6\n"
          ]
        },
        {
          "output_type": "stream",
          "name": "stderr",
          "text": [
            "Batch_id=937 Loss=0.02585 Accuracy=97.71: 100%|██████████| 938/938 [00:40<00:00, 22.99it/s]\n"
          ]
        },
        {
          "output_type": "stream",
          "name": "stdout",
          "text": [
            "\n",
            "Test set: Average loss: 0.0690, Accuracy: 9783/10000 (97.83%)\n",
            "\n",
            "EPOCH: 7\n"
          ]
        },
        {
          "output_type": "stream",
          "name": "stderr",
          "text": [
            "Batch_id=937 Loss=0.02186 Accuracy=97.97: 100%|██████████| 938/938 [00:39<00:00, 23.72it/s]\n"
          ]
        },
        {
          "output_type": "stream",
          "name": "stdout",
          "text": [
            "\n",
            "Test set: Average loss: 0.0559, Accuracy: 9820/10000 (98.20%)\n",
            "\n",
            "EPOCH: 8\n"
          ]
        },
        {
          "output_type": "stream",
          "name": "stderr",
          "text": [
            "Batch_id=937 Loss=0.02479 Accuracy=98.25: 100%|██████████| 938/938 [00:41<00:00, 22.68it/s]\n"
          ]
        },
        {
          "output_type": "stream",
          "name": "stdout",
          "text": [
            "\n",
            "Test set: Average loss: 0.0550, Accuracy: 9830/10000 (98.30%)\n",
            "\n",
            "EPOCH: 9\n"
          ]
        },
        {
          "output_type": "stream",
          "name": "stderr",
          "text": [
            "Batch_id=937 Loss=0.06839 Accuracy=98.42: 100%|██████████| 938/938 [00:39<00:00, 23.65it/s]\n"
          ]
        },
        {
          "output_type": "stream",
          "name": "stdout",
          "text": [
            "\n",
            "Test set: Average loss: 0.0738, Accuracy: 9767/10000 (97.67%)\n",
            "\n",
            "EPOCH: 10\n"
          ]
        },
        {
          "output_type": "stream",
          "name": "stderr",
          "text": [
            "Batch_id=937 Loss=0.03581 Accuracy=98.54: 100%|██████████| 938/938 [00:40<00:00, 23.12it/s]\n"
          ]
        },
        {
          "output_type": "stream",
          "name": "stdout",
          "text": [
            "\n",
            "Test set: Average loss: 0.0548, Accuracy: 9825/10000 (98.25%)\n",
            "\n",
            "EPOCH: 11\n"
          ]
        },
        {
          "output_type": "stream",
          "name": "stderr",
          "text": [
            "Batch_id=937 Loss=0.01509 Accuracy=98.68: 100%|██████████| 938/938 [00:39<00:00, 23.75it/s]\n"
          ]
        },
        {
          "output_type": "stream",
          "name": "stdout",
          "text": [
            "\n",
            "Test set: Average loss: 0.0415, Accuracy: 9879/10000 (98.79%)\n",
            "\n",
            "EPOCH: 12\n"
          ]
        },
        {
          "output_type": "stream",
          "name": "stderr",
          "text": [
            "Batch_id=937 Loss=0.00425 Accuracy=98.70: 100%|██████████| 938/938 [00:40<00:00, 23.16it/s]\n"
          ]
        },
        {
          "output_type": "stream",
          "name": "stdout",
          "text": [
            "\n",
            "Test set: Average loss: 0.0430, Accuracy: 9865/10000 (98.65%)\n",
            "\n",
            "EPOCH: 13\n"
          ]
        },
        {
          "output_type": "stream",
          "name": "stderr",
          "text": [
            "Batch_id=937 Loss=0.03061 Accuracy=98.86: 100%|██████████| 938/938 [00:41<00:00, 22.83it/s]\n"
          ]
        },
        {
          "output_type": "stream",
          "name": "stdout",
          "text": [
            "\n",
            "Test set: Average loss: 0.0365, Accuracy: 9892/10000 (98.92%)\n",
            "\n",
            "EPOCH: 14\n"
          ]
        },
        {
          "output_type": "stream",
          "name": "stderr",
          "text": [
            "Batch_id=937 Loss=0.04339 Accuracy=98.89: 100%|██████████| 938/938 [00:40<00:00, 23.38it/s]\n"
          ]
        },
        {
          "output_type": "stream",
          "name": "stdout",
          "text": [
            "\n",
            "Test set: Average loss: 0.0447, Accuracy: 9854/10000 (98.54%)\n",
            "\n",
            "EPOCH: 15\n"
          ]
        },
        {
          "output_type": "stream",
          "name": "stderr",
          "text": [
            "Batch_id=937 Loss=0.10634 Accuracy=98.94: 100%|██████████| 938/938 [00:40<00:00, 23.06it/s]\n"
          ]
        },
        {
          "output_type": "stream",
          "name": "stdout",
          "text": [
            "\n",
            "Test set: Average loss: 0.0388, Accuracy: 9879/10000 (98.79%)\n",
            "\n"
          ]
        }
      ]
    },
    {
      "cell_type": "code",
      "source": [
        "from fastai.basics import *\n",
        "import fastai.basics"
      ],
      "metadata": {
        "id": "Dxon0nZx19ep"
      },
      "execution_count": 28,
      "outputs": []
    },
    {
      "cell_type": "code",
      "source": [
        "with torch.no_grad():\n",
        "      fig, axs = plt.subplots(2,2,figsize=(15,10))\n",
        "      axs[0, 0].plot(train_losses)\n",
        "      axs[0, 0].set_title(\"Treino Loss\")\n",
        "      axs[1, 0].plot(train_acc)\n",
        "      axs[1, 0].set_title(\"Treino Acurácia\")\n",
        "      axs[0, 1].plot(test_losses)\n",
        "      axs[0, 1].set_title(\"Teste Loss\")\n",
        "      axs[1, 1].plot(test_acc)\n",
        "      axs[1, 1].set_title(\"Teste Acurácia\")"
      ],
      "metadata": {
        "colab": {
          "base_uri": "https://localhost:8080/",
          "height": 606
        },
        "id": "cQRLBErtUoLh",
        "outputId": "2ba20f51-63e3-4f8d-f213-9c849fa1c818"
      },
      "execution_count": 36,
      "outputs": [
        {
          "output_type": "display_data",
          "data": {
            "text/plain": [
              "<Figure size 1080x720 with 4 Axes>"
            ],
            "image/png": "[encoded data removed]"
          },
          "metadata": {
            "needs_background": "light"
          }
        }
      ]
    },
    {
      "cell_type": "code",
      "source": [
        ""
      ],
      "metadata": {
        "id": "xwgCgH04Lw6J"
      },
      "execution_count": null,
      "outputs": []
    }
  ]
}